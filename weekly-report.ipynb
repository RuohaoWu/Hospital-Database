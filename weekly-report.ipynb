{
 "cells": [
  {
   "cell_type": "code",
   "execution_count": 1,
   "metadata": {},
   "outputs": [],
   "source": [
    "import pandas as pd\n",
    "import matplotlib as plt\n",
    "import psycopg\n",
    "import credencials"
   ]
  },
  {
   "cell_type": "code",
   "execution_count": 2,
   "metadata": {},
   "outputs": [],
   "source": [
    "from IPython.core.interactiveshell import InteractiveShell\n",
    "InteractiveShell.ast_node_interactivity = \"all\""
   ]
  },
  {
   "cell_type": "code",
   "execution_count": 3,
   "metadata": {
    "tags": [
     "parameters"
    ]
   },
   "outputs": [],
   "source": [
    "week = '2022-09-30'\n"
   ]
  },
  {
   "cell_type": "code",
   "execution_count": 4,
   "metadata": {},
   "outputs": [],
   "source": [
    "# Connect to the sql server\n",
    "conn = psycopg.connect(\n",
    "        host=\"sculptor.stat.cmu.edu\", dbname=credencials.DB_USER,\n",
    "        user=credencials.DB_USER, password=credencials.DB_PASSWORD\n",
    ")\n",
    "\n",
    "cur = conn.cursor()"
   ]
  },
  {
   "cell_type": "code",
   "execution_count": 5,
   "metadata": {},
   "outputs": [
    {
     "name": "stderr",
     "output_type": "stream",
     "text": [
      "/Users/ruohaowu/opt/anaconda3/lib/python3.9/site-packages/pandas/io/sql.py:761: UserWarning: pandas only support SQLAlchemy connectable(engine/connection) ordatabase string URI or sqlite3 DBAPI2 connectionother DBAPI2 objects are not tested, please consider using SQLAlchemy\n",
      "  warnings.warn(\n"
     ]
    }
   ],
   "source": [
    "hospital_records = pd.read_sql_query(\"SELECT date, count(hospital_pk) from hospital_weekly where date <= %(week)s group by(date) order by date;\", conn, params={'week':week})"
   ]
  },
  {
   "cell_type": "code",
   "execution_count": 6,
   "metadata": {},
   "outputs": [
    {
     "name": "stdout",
     "output_type": "stream",
     "text": [
      "         date  count\n",
      "0  2022-09-23   4995\n",
      "1  2022-09-30   4997\n"
     ]
    }
   ],
   "source": [
    "print(hospital_records)"
   ]
  },
  {
   "cell_type": "code",
   "execution_count": 30,
   "metadata": {},
   "outputs": [
    {
     "name": "stdout",
     "output_type": "stream",
     "text": [
      "         date                          hospital_name  adult_bed_avail  \\\n",
      "0  2022-09-30        SOUTHEAST HEALTH MEDICAL CENTER            383.7   \n",
      "1  2022-09-23        SOUTHEAST HEALTH MEDICAL CENTER            389.7   \n",
      "2  2022-09-23  MARSHALL MEDICAL CENTERS SOUTH CAMPUS            207.0   \n",
      "3  2022-09-30  MARSHALL MEDICAL CENTERS SOUTH CAMPUS            207.9   \n",
      "4  2022-09-23           NORTH ALABAMA MEDICAL CENTER            243.0   \n",
      "5  2022-09-30           NORTH ALABAMA MEDICAL CENTER            245.3   \n",
      "6  2022-09-23               MIZELL MEMORIAL HOSPITAL             40.0   \n",
      "7  2022-09-30               MIZELL MEMORIAL HOSPITAL             40.3   \n",
      "8  2022-09-23            CRENSHAW COMMUNITY HOSPITAL             37.0   \n",
      "9  2022-09-30            CRENSHAW COMMUNITY HOSPITAL             37.0   \n",
      "\n",
      "   child_bed_avail  adult_bed_used  child_bed_used  all_covid_patient  \n",
      "0              8.0             7.0             NaN               16.9  \n",
      "1              8.0             7.0             7.0               12.7  \n",
      "2              4.0             7.0             0.0                NaN  \n",
      "3              4.0             7.0             0.0                NaN  \n",
      "4             10.0             7.0            11.1                4.7  \n",
      "5             10.0             7.0            11.4                NaN  \n",
      "6              0.0             7.0             0.0                NaN  \n",
      "7              0.0             7.0             0.0                NaN  \n",
      "8              0.0             7.0             0.0                0.0  \n",
      "9              0.0             7.0             0.0                0.0  \n"
     ]
    },
    {
     "name": "stderr",
     "output_type": "stream",
     "text": [
      "/Users/ruohaowu/opt/anaconda3/lib/python3.9/site-packages/pandas/io/sql.py:761: UserWarning: pandas only support SQLAlchemy connectable(engine/connection) ordatabase string URI or sqlite3 DBAPI2 connectionother DBAPI2 objects are not tested, please consider using SQLAlchemy\n",
      "  warnings.warn(\n"
     ]
    }
   ],
   "source": [
    "hospital_beds = pd.read_sql_query(\"select date,b.hospital_name, adult_bed_avail, child_bed_avail, adult_bed_used,\\\n",
    "     child_bed_used, all_COVID_patient from hospital_weekly as a full outer join hospital as b on \\\n",
    "        a.hospital_pk = b.hospital_pk where date <= %(week)s group by a.date,a.hospital_pk, b.hospital_name order by a.hospital_pk limit 10; \\\n",
    "           ;\", conn, params={'week':week})\n",
    "print(hospital_beds)"
   ]
  },
  {
   "cell_type": "code",
   "execution_count": null,
   "metadata": {},
   "outputs": [],
   "source": [
    "hospital_records = pd.read_sql_query(\"SELECT date from hospital_weekly where %(week)s-7 <= date <= %(week)s group by(date) order by date;\", conn, params={'week':week})"
   ]
  },
  {
   "cell_type": "code",
   "execution_count": null,
   "metadata": {},
   "outputs": [],
   "source": [
    "hospital_rating = pd.read_sql_query(\"select a.hospital_pk, date, child_bed_avail, adult_bed_used,\\\n",
    "     child_bed_used, all_COVID_patient from hospital_weekly as a full outer join hospital as b on \\\n",
    "        a.hospital_pk = b.hospital_pk where date <= %(week)s group by a.date,a.hospital_pk order by a.hospital_pk limit 10; \\\n",
    "           ;\", conn, params={'week':week})\n",
    "print(hospital_rating)"
   ]
  }
 ],
 "metadata": {
  "kernelspec": {
   "display_name": "Python 3.9.12 ('base')",
   "language": "python",
   "name": "python3"
  },
  "language_info": {
   "codemirror_mode": {
    "name": "ipython",
    "version": 3
   },
   "file_extension": ".py",
   "mimetype": "text/x-python",
   "name": "python",
   "nbconvert_exporter": "python",
   "pygments_lexer": "ipython3",
   "version": "3.9.12"
  },
  "orig_nbformat": 4,
  "vscode": {
   "interpreter": {
    "hash": "fe9966e2db14dd5bb39d77574943405fc2651d3ce0bbcbf4463163b24ddc0f9a"
   }
  }
 },
 "nbformat": 4,
 "nbformat_minor": 2
}
