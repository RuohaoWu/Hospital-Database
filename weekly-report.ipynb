{
 "cells": [
  {
   "cell_type": "code",
   "execution_count": 6,
   "metadata": {},
   "outputs": [],
   "source": [
    "import pandas as pd\n",
    "import matplotlib as plt\n",
    "import psycopg\n",
    "import credencials"
   ]
  },
  {
   "cell_type": "code",
   "execution_count": 7,
   "metadata": {},
   "outputs": [],
   "source": [
    "from IPython.core.interactiveshell import InteractiveShell\n",
    "InteractiveShell.ast_node_interactivity = \"all\""
   ]
  },
  {
   "cell_type": "code",
   "execution_count": 30,
   "metadata": {
    "tags": [
     "parameters"
    ]
   },
   "outputs": [],
   "source": [
    "week = '2022-09-30'\n"
   ]
  },
  {
   "cell_type": "code",
   "execution_count": 8,
   "metadata": {},
   "outputs": [],
   "source": [
    "# Connect to the sql server\n",
    "conn = psycopg.connect(\n",
    "        host=\"sculptor.stat.cmu.edu\", dbname=credencials.DB_USER,\n",
    "        user=credencials.DB_USER, password=credencials.DB_PASSWORD\n",
    ")\n",
    "\n",
    "cur = conn.cursor()"
   ]
  },
  {
   "cell_type": "code",
   "execution_count": 34,
   "metadata": {},
   "outputs": [
    {
     "name": "stderr",
     "output_type": "stream",
     "text": [
      "/Users/shaominhong/opt/anaconda3/lib/python3.9/site-packages/pandas/io/sql.py:761: UserWarning: pandas only support SQLAlchemy connectable(engine/connection) ordatabase string URI or sqlite3 DBAPI2 connectionother DBAPI2 objects are not tested, please consider using SQLAlchemy\n",
      "  warnings.warn(\n"
     ]
    }
   ],
   "source": [
    "hospital_records = pd.read_sql_query(\"SELECT date, count(hospital_pk) from hospital_weekly where date <= %(week)s group by(date) order by date;\", conn, params={'week':week})"
   ]
  },
  {
   "cell_type": "code",
   "execution_count": 35,
   "metadata": {},
   "outputs": [
    {
     "name": "stdout",
     "output_type": "stream",
     "text": [
      "         date  count\n",
      "0  2022-09-23   4995\n",
      "1  2022-09-30   4997\n"
     ]
    }
   ],
   "source": [
    "print(hospital_records)"
   ]
  },
  {
   "cell_type": "code",
   "execution_count": 57,
   "metadata": {},
   "outputs": [
    {
     "name": "stdout",
     "output_type": "stream",
     "text": [
      "  hospital_pk        date  child_bed_avail  adult_bed_used  child_bed_used  \\\n",
      "0      010001  2022-09-23              8.0             7.0             7.0   \n",
      "1      010001  2022-09-30              8.0             7.0             NaN   \n",
      "2      010005  2022-09-23              4.0             7.0             0.0   \n",
      "3      010005  2022-09-30              4.0             7.0             0.0   \n",
      "4      010006  2022-09-23             10.0             7.0            11.1   \n",
      "5      010006  2022-09-30             10.0             7.0            11.4   \n",
      "6      010007  2022-09-23              0.0             7.0             0.0   \n",
      "7      010007  2022-09-30              0.0             7.0             0.0   \n",
      "8      010008  2022-09-23              0.0             7.0             0.0   \n",
      "9      010008  2022-09-30              0.0             7.0             0.0   \n",
      "\n",
      "   all_covid_patient  \n",
      "0               12.7  \n",
      "1               16.9  \n",
      "2                NaN  \n",
      "3                NaN  \n",
      "4                4.7  \n",
      "5                NaN  \n",
      "6                NaN  \n",
      "7                NaN  \n",
      "8                0.0  \n",
      "9                0.0  \n"
     ]
    }
   ],
   "source": [
    "hospital_beds = pd.read_sql_query(\"select a.hospital_pk, date, child_bed_avail, adult_bed_used,\\\n",
    "     child_bed_used, all_COVID_patient from hospital_weekly as a full outer join hospital as b on \\\n",
    "        a.hospital_pk = b.hospital_pk where date <= %(week)s group by a.date,a.hospital_pk order by a.hospital_pk limit 10; \\\n",
    "           ;\", conn, params={'week':week})\n",
    "print(hospital_beds)"
   ]
  },
  {
   "cell_type": "code",
   "execution_count": null,
   "metadata": {},
   "outputs": [],
   "source": [
    "hospital_rating = pd.read_sql_query(\"select a.hospital_pk, date, child_bed_avail, adult_bed_used,\\\n",
    "     child_bed_used, all_COVID_patient from hospital_weekly as a full outer join hospital as b on \\\n",
    "        a.hospital_pk = b.hospital_pk where date <= %(week)s group by a.date,a.hospital_pk order by a.hospital_pk limit 10; \\\n",
    "           ;\", conn, params={'week':week})\n",
    "print(hospital_rating)"
   ]
  }
 ],
 "metadata": {
  "kernelspec": {
   "display_name": "Python 3.9.12 ('base')",
   "language": "python",
   "name": "python3"
  },
  "language_info": {
   "codemirror_mode": {
    "name": "ipython",
    "version": 3
   },
   "file_extension": ".py",
   "mimetype": "text/x-python",
   "name": "python",
   "nbconvert_exporter": "python",
   "pygments_lexer": "ipython3",
   "version": "3.9.12"
  },
  "orig_nbformat": 4,
  "vscode": {
   "interpreter": {
    "hash": "767e41afc03271f8699993902b93b76629a806a849dfa591e21f1f5741045c09"
   }
  }
 },
 "nbformat": 4,
 "nbformat_minor": 2
}
