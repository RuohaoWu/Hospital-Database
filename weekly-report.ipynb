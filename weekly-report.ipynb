{
 "cells": [
  {
   "cell_type": "code",
   "execution_count": 164,
   "metadata": {},
   "outputs": [],
   "source": [
    "import pandas as pd\n",
    "import numpy as np\n",
    "import matplotlib.pyplot as plt\n",
    "import plotly.express as px\n",
    "import psycopg\n",
    "import credencials\n",
    "import warnings"
   ]
  },
  {
   "cell_type": "code",
   "execution_count": 13,
   "metadata": {},
   "outputs": [],
   "source": [
    "warnings.filterwarnings(\"ignore\")"
   ]
  },
  {
   "cell_type": "code",
   "execution_count": 14,
   "metadata": {},
   "outputs": [],
   "source": [
    "from IPython.core.interactiveshell import InteractiveShell\n",
    "InteractiveShell.ast_node_interactivity = \"all\""
   ]
  },
  {
   "cell_type": "code",
   "execution_count": 220,
   "metadata": {
    "tags": [
     "parameters"
    ]
   },
   "outputs": [],
   "source": [
    "week = '2022-10-14'\n"
   ]
  },
  {
   "cell_type": "code",
   "execution_count": 97,
   "metadata": {},
   "outputs": [
    {
     "name": "stdout",
     "output_type": "stream",
     "text": [
      "Weekly Hospital Report for 2022-09-30\n"
     ]
    }
   ],
   "source": [
    "print(\"Weekly Hospital Report for \" + week)"
   ]
  },
  {
   "cell_type": "code",
   "execution_count": 221,
   "metadata": {},
   "outputs": [],
   "source": [
    "# Connect to the sql server\n",
    "conn = psycopg.connect(\n",
    "        host=\"sculptor.stat.cmu.edu\", dbname=credencials.DB_USER,\n",
    "        user=credencials.DB_USER, password=credencials.DB_PASSWORD\n",
    ")\n",
    "\n",
    "cur = conn.cursor()"
   ]
  },
  {
   "cell_type": "code",
   "execution_count": 222,
   "metadata": {},
   "outputs": [],
   "source": [
    "# Check if data is in database\n",
    "dates = pd.read_sql_query(\"select \\\n",
    "                            count(distinct date) \\\n",
    "                            from hospital_weekly \\\n",
    "                            where date = %(week)s;\"\n",
    "                            , conn\n",
    "                            , params={'week':week})\n",
    "\n",
    "\n",
    "if dates.iloc[0,0] > 0:\n",
    "    run = True\n",
    "else:\n",
    "    run = False\n",
    "    print(\"No Hospital Data Found For This Week. Please Try Another Date\")"
   ]
  },
  {
   "cell_type": "markdown",
   "metadata": {},
   "source": [
    "# Hospital Records Loaded Compared to Previous 4 Weeks"
   ]
  },
  {
   "cell_type": "code",
   "execution_count": 100,
   "metadata": {},
   "outputs": [],
   "source": [
    "if run == True:\n",
    "    weekly_uploads = pd.read_sql_query(\"SELECT \\\n",
    "                                            to_char(date, 'Month dd, YYYY'), \\\n",
    "                                            count(hospital_pk) \\\n",
    "                                            from hospital_weekly \\\n",
    "                                            where date between (date (%(week)s) - interval '4 week') and %(week)s \\\n",
    "                                            group by(date) \\\n",
    "                                            order by date;\"\n",
    "                                            , conn\n",
    "                                            , params={'week':week})"
   ]
  },
  {
   "cell_type": "code",
   "execution_count": 107,
   "metadata": {},
   "outputs": [
    {
     "data": {
      "text/html": [
       "<style type=\"text/css\">\n",
       "#T_e0aec_row1_col0, #T_e0aec_row1_col1 {\n",
       "  font-weight: bold;\n",
       "}\n",
       "</style>\n",
       "<table id=\"T_e0aec\">\n",
       "  <thead>\n",
       "    <tr>\n",
       "      <th id=\"T_e0aec_level0_col0\" class=\"col_heading level0 col0\" >Week</th>\n",
       "      <th id=\"T_e0aec_level0_col1\" class=\"col_heading level0 col1\" >Records Loaded</th>\n",
       "    </tr>\n",
       "  </thead>\n",
       "  <tbody>\n",
       "    <tr>\n",
       "      <td id=\"T_e0aec_row0_col0\" class=\"data row0 col0\" >September 23, 2022</td>\n",
       "      <td id=\"T_e0aec_row0_col1\" class=\"data row0 col1\" >4995</td>\n",
       "    </tr>\n",
       "    <tr>\n",
       "      <td id=\"T_e0aec_row1_col0\" class=\"data row1 col0\" >September 30, 2022</td>\n",
       "      <td id=\"T_e0aec_row1_col1\" class=\"data row1 col1\" >4997</td>\n",
       "    </tr>\n",
       "  </tbody>\n",
       "</table>\n"
      ],
      "text/plain": [
       "<pandas.io.formats.style.Styler at 0x7f420af2f040>"
      ]
     },
     "execution_count": 107,
     "metadata": {},
     "output_type": "execute_result"
    }
   ],
   "source": [
    "if run == True:\n",
    "    # Create Table\n",
    "    def highlight_max(x):\n",
    "        return ['font-weight: bold' if v == x.loc[x.shape[0]-1] else ''\n",
    "                    for v in x]\n",
    "\n",
    "    weekly_uploads = weekly_uploads.rename(columns={\"to_char\":\"Week\",\"count\":\"Records Loaded\"})\n",
    "    weekly_uploads.style.hide_index().apply(highlight_max)\n"
   ]
  },
  {
   "cell_type": "markdown",
   "metadata": {},
   "source": [
    "# Bed Breakdown Compared to Previous 4 weeks"
   ]
  },
  {
   "cell_type": "code",
   "execution_count": 135,
   "metadata": {},
   "outputs": [
    {
     "data": {
      "text/html": [
       "<style type=\"text/css\">\n",
       "#T_cbd7c_row1_col0, #T_cbd7c_row1_col1, #T_cbd7c_row1_col2, #T_cbd7c_row1_col3, #T_cbd7c_row1_col4, #T_cbd7c_row1_col5 {\n",
       "  font-weight: bold;\n",
       "}\n",
       "</style>\n",
       "<table id=\"T_cbd7c\">\n",
       "  <thead>\n",
       "    <tr>\n",
       "      <th id=\"T_cbd7c_level0_col0\" class=\"col_heading level0 col0\" >Week</th>\n",
       "      <th id=\"T_cbd7c_level0_col1\" class=\"col_heading level0 col1\" >Adult Available</th>\n",
       "      <th id=\"T_cbd7c_level0_col2\" class=\"col_heading level0 col2\" >Child Available</th>\n",
       "      <th id=\"T_cbd7c_level0_col3\" class=\"col_heading level0 col3\" >Adult Used</th>\n",
       "      <th id=\"T_cbd7c_level0_col4\" class=\"col_heading level0 col4\" >Child Used</th>\n",
       "      <th id=\"T_cbd7c_level0_col5\" class=\"col_heading level0 col5\" >Covid Patients</th>\n",
       "    </tr>\n",
       "  </thead>\n",
       "  <tbody>\n",
       "    <tr>\n",
       "      <td id=\"T_cbd7c_row0_col0\" class=\"data row0 col0\" >September 23, 2022</td>\n",
       "      <td id=\"T_cbd7c_row0_col1\" class=\"data row0 col1\" >413,560</td>\n",
       "      <td id=\"T_cbd7c_row0_col2\" class=\"data row0 col2\" >39,606</td>\n",
       "      <td id=\"T_cbd7c_row0_col3\" class=\"data row0 col3\" >34,825</td>\n",
       "      <td id=\"T_cbd7c_row0_col4\" class=\"data row0 col4\" >27,778</td>\n",
       "      <td id=\"T_cbd7c_row0_col5\" class=\"data row0 col5\" >25,601</td>\n",
       "    </tr>\n",
       "    <tr>\n",
       "      <td id=\"T_cbd7c_row1_col0\" class=\"data row1 col0\" >September 30, 2022</td>\n",
       "      <td id=\"T_cbd7c_row1_col1\" class=\"data row1 col1\" >416,279</td>\n",
       "      <td id=\"T_cbd7c_row1_col2\" class=\"data row1 col2\" >39,805</td>\n",
       "      <td id=\"T_cbd7c_row1_col3\" class=\"data row1 col3\" >34,852</td>\n",
       "      <td id=\"T_cbd7c_row1_col4\" class=\"data row1 col4\" >28,043</td>\n",
       "      <td id=\"T_cbd7c_row1_col5\" class=\"data row1 col5\" >24,142</td>\n",
       "    </tr>\n",
       "  </tbody>\n",
       "</table>\n"
      ],
      "text/plain": [
       "<pandas.io.formats.style.Styler at 0x7f4209596760>"
      ]
     },
     "execution_count": 135,
     "metadata": {},
     "output_type": "execute_result"
    }
   ],
   "source": [
    "if run == True:\n",
    "    weekly_beds = pd.read_sql_query(\"select \\\n",
    "                                    to_char(date, 'Month dd, YYYY'), \\\n",
    "                                    sum(coalesce(adult_bed_avail,0)) as Adult_Beds_Avail, \\\n",
    "                                    sum(coalesce(child_bed_avail,0)) as Child_Beds_Avail, \\\n",
    "                                    sum(coalesce(adult_bed_used,0)) as Adult_Beds_Used, \\\n",
    "                                    sum(coalesce(child_bed_used,0)) as Child_Bed_Used, \\\n",
    "                                    sum(coalesce(all_COVID_patient,0)) as All_COVID_Patient \\\n",
    "                                    from hospital_weekly as a \\\n",
    "                                    where date between (date (%(week)s) - interval '4 week') and %(week)s \\\n",
    "                                    group by a.date \\\n",
    "                                    order by a.date; \" \n",
    "                                    , conn\\\n",
    "                                    , params={'week':week})\n",
    "\n",
    "    weekly_beds = weekly_beds.rename(columns={\"to_char\":\"Week\",\n",
    "                                                \"adult_beds_avail\":\"Adult Available\",\n",
    "                                                \"child_beds_avail\":\"Child Available\",\n",
    "                                                \"adult_beds_used\":\"Adult Used\",\n",
    "                                                \"child_bed_used\":\"Child Used\",\n",
    "                                                \"all_covid_patient\":\"Covid Patients\"})\n",
    "\n",
    "    weekly_beds.style.format({\"Adult Available\":\"{:,.0f}\",\n",
    "                                \"Child Available\":\"{:,.0f}\",\n",
    "                                \"Adult Used\":\"{:,.0f}\",\n",
    "                                \"Child Used\":\"{:,.0f}\",\n",
    "                                \"Covid Patients\":\"{:,.0f}\"}).hide_index().apply(highlight_max)"
   ]
  },
  {
   "cell_type": "markdown",
   "metadata": {},
   "source": [
    "# Number of Beds Used By Quality Rating For Most Recent Week"
   ]
  },
  {
   "cell_type": "code",
   "execution_count": 150,
   "metadata": {},
   "outputs": [
    {
     "data": {
      "text/html": [
       "<style type=\"text/css\">\n",
       "#T_6e8af_row4_col0, #T_6e8af_row4_col1 {\n",
       "  font-weight: bold;\n",
       "}\n",
       "</style>\n",
       "<table id=\"T_6e8af\">\n",
       "  <thead>\n",
       "    <tr>\n",
       "      <th id=\"T_6e8af_level0_col0\" class=\"col_heading level0 col0\" >Quality</th>\n",
       "      <th id=\"T_6e8af_level0_col1\" class=\"col_heading level0 col1\" >Total Beds In Use</th>\n",
       "    </tr>\n",
       "  </thead>\n",
       "  <tbody>\n",
       "    <tr>\n",
       "      <td id=\"T_6e8af_row0_col0\" class=\"data row0 col0\" >1</td>\n",
       "      <td id=\"T_6e8af_row0_col1\" class=\"data row0 col1\" >2,918</td>\n",
       "    </tr>\n",
       "    <tr>\n",
       "      <td id=\"T_6e8af_row1_col0\" class=\"data row1 col0\" >2</td>\n",
       "      <td id=\"T_6e8af_row1_col1\" class=\"data row1 col1\" >8,003</td>\n",
       "    </tr>\n",
       "    <tr>\n",
       "      <td id=\"T_6e8af_row2_col0\" class=\"data row2 col0\" >3</td>\n",
       "      <td id=\"T_6e8af_row2_col1\" class=\"data row2 col1\" >11,718</td>\n",
       "    </tr>\n",
       "    <tr>\n",
       "      <td id=\"T_6e8af_row3_col0\" class=\"data row3 col0\" >4</td>\n",
       "      <td id=\"T_6e8af_row3_col1\" class=\"data row3 col1\" >11,208</td>\n",
       "    </tr>\n",
       "    <tr>\n",
       "      <td id=\"T_6e8af_row4_col0\" class=\"data row4 col0\" >5</td>\n",
       "      <td id=\"T_6e8af_row4_col1\" class=\"data row4 col1\" >4,781</td>\n",
       "    </tr>\n",
       "  </tbody>\n",
       "</table>\n"
      ],
      "text/plain": [
       "<pandas.io.formats.style.Styler at 0x7f42085bddf0>"
      ]
     },
     "execution_count": 150,
     "metadata": {},
     "output_type": "execute_result"
    },
    {
     "data": {
      "image/png": "[encoded data removed]",
      "text/plain": [
       "<Figure size 432x288 with 1 Axes>"
      ]
     },
     "metadata": {
      "needs_background": "light"
     },
     "output_type": "display_data"
    }
   ],
   "source": [
    "if run == True:\n",
    "    quality_beds = pd.read_sql_query(\"select \\\n",
    "                                        b.quality, \\\n",
    "                                        sum(coalesce(a.adult_bed_used,0)) \\\n",
    "                                            + sum(coalesce(a.child_bed_used,0)) as total_bed \\\n",
    "                                        from hospital_weekly as a \\\n",
    "                                        inner join ( \\\n",
    "                                            select \\\n",
    "                                                b.hospital_pk, \\\n",
    "                                                b.quality \\\n",
    "                                                    from ( \\\n",
    "                                                        select \\\n",
    "                                                            a.*, \\\n",
    "                                                            (rank() OVER (PARTITION BY hospital_pk ORDER BY date desc)) as rank \\\n",
    "                                                        from hospital_quality as a \\\n",
    "                                                        where date <= %(week)s and quality is not null) as b \\\n",
    "                                                where rank = 1) b \\\n",
    "                                            ON a.hospital_pk = b.hospital_pk and a.date = %(week)s \\\n",
    "                                        group by b.quality \\\n",
    "                                        order by b.quality;\"\n",
    "                                        , conn\n",
    "                                        , params={'week':week})\n",
    "\n",
    "    quality_beds = quality_beds.rename(columns={\"quality\":\"Quality\",\n",
    "                                                \"total_bed\":\"Total Beds In Use\"})\n",
    "    # Table Format\n",
    "    quality_beds.style.format({\"Quality\":\"{:,.0f}\",\n",
    "                                \"Total Beds In Use\":\"{:,.0f}\"}).hide_index().apply(highlight_max)\n",
    "\n",
    "    def addlabels(x, y):\n",
    "        for i in range(len(x)):\n",
    "            plt.text(i+1,y[i],y[i], ha = 'center')\n",
    "\n",
    "    # Bar Plot\n",
    "    p = plt.bar(quality_beds[\"Quality\"], quality_beds[\"Total Beds In Use\"], color = \"lightskyblue\")\n",
    "    addlabels(quality_beds[\"Quality\"], quality_beds[\"Total Beds In Use\"])\n",
    "    p = plt.title(\"Beds in Use by Quality Rating\")\n",
    "    p = plt.xlabel(\"Quality Rating\")\n",
    "    p = plt.ylabel(\"Beds in Use\")\n",
    "    plt.show()"
   ]
  },
  {
   "cell_type": "markdown",
   "metadata": {},
   "source": [
    "# All Time Comparison of Beds Used vs COVID Cases"
   ]
  },
  {
   "cell_type": "code",
   "execution_count": 176,
   "metadata": {},
   "outputs": [
    {
     "data": {
      "text/html": [
       "<style type=\"text/css\">\n",
       "#T_223cd_row1_col0, #T_223cd_row1_col1, #T_223cd_row1_col2 {\n",
       "  font-weight: bold;\n",
       "}\n",
       "</style>\n",
       "<table id=\"T_223cd\">\n",
       "  <thead>\n",
       "    <tr>\n",
       "      <th id=\"T_223cd_level0_col0\" class=\"col_heading level0 col0\" >Week</th>\n",
       "      <th id=\"T_223cd_level0_col1\" class=\"col_heading level0 col1\" >All Cases</th>\n",
       "      <th id=\"T_223cd_level0_col2\" class=\"col_heading level0 col2\" >Covid Cases</th>\n",
       "    </tr>\n",
       "  </thead>\n",
       "  <tbody>\n",
       "    <tr>\n",
       "      <td id=\"T_223cd_row0_col0\" class=\"data row0 col0\" >September 23, 2022</td>\n",
       "      <td id=\"T_223cd_row0_col1\" class=\"data row0 col1\" >62,603</td>\n",
       "      <td id=\"T_223cd_row0_col2\" class=\"data row0 col2\" >25,601</td>\n",
       "    </tr>\n",
       "    <tr>\n",
       "      <td id=\"T_223cd_row1_col0\" class=\"data row1 col0\" >September 30, 2022</td>\n",
       "      <td id=\"T_223cd_row1_col1\" class=\"data row1 col1\" >62,895</td>\n",
       "      <td id=\"T_223cd_row1_col2\" class=\"data row1 col2\" >24,142</td>\n",
       "    </tr>\n",
       "  </tbody>\n",
       "</table>\n"
      ],
      "text/plain": [
       "<pandas.io.formats.style.Styler at 0x7f4214ccb400>"
      ]
     },
     "execution_count": 176,
     "metadata": {},
     "output_type": "execute_result"
    }
   ],
   "source": [
    "if run == True:\n",
    "        alltime_beds = pd.read_sql_query(\"select \\\n",
    "                                                to_char(date, 'Month dd, YYYY'), \\\n",
    "                                                sum(coalesce(adult_bed_used,0)) \\\n",
    "                                                        + sum(coalesce(child_bed_used,0)) as All, \\\n",
    "                                                sum(coalesce(all_COVID_patient,0)) as COVID\\\n",
    "                                        from hospital_weekly \\\n",
    "                                        where date <= %(week)s \\\n",
    "                                        group by date \\\n",
    "                                        order by date;\" \\\n",
    "                                        , conn\n",
    "                                        , params={'week':week})\n",
    "\n",
    "        alltime_beds = alltime_beds.rename(columns={\"to_char\":\"Week\",\n",
    "                                                \"all\":\"All Cases\",\n",
    "                                                \"covid\":\"Covid Cases\"})\n",
    "        # Table Format\n",
    "        alltime_beds.style.format({\"All Cases\":\"{:,.0f}\",\n",
    "                                \"Covid Cases\":\"{:,.0f}\"}).hide_index().apply(highlight_max)"
   ]
  },
  {
   "cell_type": "code",
   "execution_count": 177,
   "metadata": {},
   "outputs": [
    {
     "data": {
      "image/png": "[encoded data removed]",
      "text/plain": [
       "<Figure size 432x288 with 1 Axes>"
      ]
     },
     "metadata": {
      "needs_background": "light"
     },
     "output_type": "display_data"
    }
   ],
   "source": [
    "if run == True:\n",
    "    x_axis = np.arange(len(alltime_beds[\"Week\"]))\n",
    "    p = plt.bar(x_axis - 0.1, alltime_beds[\"All Cases\"], 0.2, label = \"All Cases\")\n",
    "    p = plt.bar(x_axis + 0.1, alltime_beds[\"Covid Cases\"], 0.2, label = \"COVID Cases\")\n",
    "    p = plt.xticks(x_axis, alltime_beds[\"Week\"])\n",
    "    p = plt.title(\"All Cases vs COVID Cases\")\n",
    "    p = plt.ylabel(\"Number of Cases\")\n",
    "    p = plt.legend()\n",
    "    plt.show()"
   ]
  },
  {
   "cell_type": "markdown",
   "metadata": {},
   "source": [
    "# Chart of COVID Cases by State"
   ]
  },
  {
   "cell_type": "code",
   "execution_count": 183,
   "metadata": {},
   "outputs": [],
   "source": [
    "if run == True:\n",
    "    covid_map = pd.read_sql_query(\"select \\\n",
    "                                    state, \\\n",
    "                                    sum(coalesce(all_COVID_patient,0)) as covid_sum \\\n",
    "                                    from hospital_weekly as a \\\n",
    "                                    full outer join hospital as b \\\n",
    "                                    on a.hospital_pk = b.hospital_pk \\\n",
    "                                    where date = %(week)s \\\n",
    "                                    group by b.state;\"\n",
    "                                    , conn\n",
    "                                    , params={'week':week})\n",
    "\n",
    "    covid_map = covid_map.rename(columns={\"covid_sum\":\"COVID Cases\"})\n"
   ]
  },
  {
   "cell_type": "code",
   "execution_count": 187,
   "metadata": {},
   "outputs": [
    {
     "data": {
      "application/vnd.plotly.v1+json": {
       "config": {
        "plotlyServerURL": "https://plot.ly"
       },
       "data": [
        {
         "coloraxis": "coloraxis",
         "geo": "geo",
         "hovertemplate": "state=%{location}<br>COVID Cases=%{z}<extra></extra>",
         "locationmode": "USA-states",
         "locations": [
          "CA",
          "NH",
          "OR",
          "ND",
          "TX",
          "PR",
          "NV",
          "KY",
          "OH",
          "GU",
          "NY",
          "HI",
          "NM",
          "MS",
          "IN",
          "DC",
          "WV",
          "NE",
          "FL",
          "MO",
          "ME",
          "AR",
          "NC",
          "CT",
          "WI",
          "SD",
          "RI",
          "OK",
          "ID",
          "GA",
          "MN",
          "PA",
          "MD",
          "AK",
          "WY",
          "LA",
          "MT",
          "IL",
          "TN",
          "WA",
          "NJ",
          "MI",
          "MA",
          "AL",
          "UT",
          "IA",
          "VT",
          "CO",
          "SC",
          "VI",
          "AS",
          "VA",
          "DE",
          "AZ",
          "KS"
         ],
         "name": "",
         "type": "choropleth",
         "z": [
          1939.7,
          92.3,
          308.3,
          42.8,
          1574.6,
          151.2,
          115.1,
          353.5,
          1004.9,
          4.4,
          2607.4,
          69.5,
          80.5,
          112,
          266.7,
          135.1,
          173.8,
          121.3,
          1621.3,
          666.4,
          184.5,
          184,
          1439.1,
          423.7,
          320.2,
          49.6,
          75.2,
          198.7,
          88.3,
          798.1,
          427.7,
          1512.9,
          618.6,
          15.5,
          6.9,
          119.5,
          38.7,
          812.7,
          359.5,
          415.5,
          933.8,
          976.3,
          720.3,
          242.3,
          94.5,
          128.8,
          35.2,
          148.3,
          213.9,
          5,
          0,
          525.9,
          188.3,
          288.7,
          111.5
         ]
        }
       ],
       "layout": {
        "coloraxis": {
         "colorbar": {
          "title": {
           "text": "COVID Cases"
          }
         },
         "colorscale": [
          [
           0,
           "#fde725"
          ],
          [
           0.1111111111111111,
           "#b5de2b"
          ],
          [
           0.2222222222222222,
           "#6ece58"
          ],
          [
           0.3333333333333333,
           "#35b779"
          ],
          [
           0.4444444444444444,
           "#1f9e89"
          ],
          [
           0.5555555555555556,
           "#26828e"
          ],
          [
           0.6666666666666666,
           "#31688e"
          ],
          [
           0.7777777777777778,
           "#3e4989"
          ],
          [
           0.8888888888888888,
           "#482878"
          ],
          [
           1,
           "#440154"
          ]
         ]
        },
        "geo": {
         "center": {},
         "domain": {
          "x": [
           0,
           1
          ],
          "y": [
           0,
           1
          ]
         },
         "scope": "usa"
        },
        "legend": {
         "tracegroupgap": 0
        },
        "template": {
         "data": {
          "bar": [
           {
            "error_x": {
             "color": "#2a3f5f"
            },
            "error_y": {
             "color": "#2a3f5f"
            },
            "marker": {
             "line": {
              "color": "#E5ECF6",
              "width": 0.5
             },
             "pattern": {
              "fillmode": "overlay",
              "size": 10,
              "solidity": 0.2
             }
            },
            "type": "bar"
           }
          ],
          "barpolar": [
           {
            "marker": {
             "line": {
              "color": "#E5ECF6",
              "width": 0.5
             },
             "pattern": {
              "fillmode": "overlay",
              "size": 10,
              "solidity": 0.2
             }
            },
            "type": "barpolar"
           }
          ],
          "carpet": [
           {
            "aaxis": {
             "endlinecolor": "#2a3f5f",
             "gridcolor": "white",
             "linecolor": "white",
             "minorgridcolor": "white",
             "startlinecolor": "#2a3f5f"
            },
            "baxis": {
             "endlinecolor": "#2a3f5f",
             "gridcolor": "white",
             "linecolor": "white",
             "minorgridcolor": "white",
             "startlinecolor": "#2a3f5f"
            },
            "type": "carpet"
           }
          ],
          "choropleth": [
           {
            "colorbar": {
             "outlinewidth": 0,
             "ticks": ""
            },
            "type": "choropleth"
           }
          ],
          "contour": [
           {
            "colorbar": {
             "outlinewidth": 0,
             "ticks": ""
            },
            "colorscale": [
             [
              0,
              "#0d0887"
             ],
             [
              0.1111111111111111,
              "#46039f"
             ],
             [
              0.2222222222222222,
              "#7201a8"
             ],
             [
              0.3333333333333333,
              "#9c179e"
             ],
             [
              0.4444444444444444,
              "#bd3786"
             ],
             [
              0.5555555555555556,
              "#d8576b"
             ],
             [
              0.6666666666666666,
              "#ed7953"
             ],
             [
              0.7777777777777778,
              "#fb9f3a"
             ],
             [
              0.8888888888888888,
              "#fdca26"
             ],
             [
              1,
              "#f0f921"
             ]
            ],
            "type": "contour"
           }
          ],
          "contourcarpet": [
           {
            "colorbar": {
             "outlinewidth": 0,
             "ticks": ""
            },
            "type": "contourcarpet"
           }
          ],
          "heatmap": [
           {
            "colorbar": {
             "outlinewidth": 0,
             "ticks": ""
            },
            "colorscale": [
             [
              0,
              "#0d0887"
             ],
             [
              0.1111111111111111,
              "#46039f"
             ],
             [
              0.2222222222222222,
              "#7201a8"
             ],
             [
              0.3333333333333333,
              "#9c179e"
             ],
             [
              0.4444444444444444,
              "#bd3786"
             ],
             [
              0.5555555555555556,
              "#d8576b"
             ],
             [
              0.6666666666666666,
              "#ed7953"
             ],
             [
              0.7777777777777778,
              "#fb9f3a"
             ],
             [
              0.8888888888888888,
              "#fdca26"
             ],
             [
              1,
              "#f0f921"
             ]
            ],
            "type": "heatmap"
           }
          ],
          "heatmapgl": [
           {
            "colorbar": {
             "outlinewidth": 0,
             "ticks": ""
            },
            "colorscale": [
             [
              0,
              "#0d0887"
             ],
             [
              0.1111111111111111,
              "#46039f"
             ],
             [
              0.2222222222222222,
              "#7201a8"
             ],
             [
              0.3333333333333333,
              "#9c179e"
             ],
             [
              0.4444444444444444,
              "#bd3786"
             ],
             [
              0.5555555555555556,
              "#d8576b"
             ],
             [
              0.6666666666666666,
              "#ed7953"
             ],
             [
              0.7777777777777778,
              "#fb9f3a"
             ],
             [
              0.8888888888888888,
              "#fdca26"
             ],
             [
              1,
              "#f0f921"
             ]
            ],
            "type": "heatmapgl"
           }
          ],
          "histogram": [
           {
            "marker": {
             "pattern": {
              "fillmode": "overlay",
              "size": 10,
              "solidity": 0.2
             }
            },
            "type": "histogram"
           }
          ],
          "histogram2d": [
           {
            "colorbar": {
             "outlinewidth": 0,
             "ticks": ""
            },
            "colorscale": [
             [
              0,
              "#0d0887"
             ],
             [
              0.1111111111111111,
              "#46039f"
             ],
             [
              0.2222222222222222,
              "#7201a8"
             ],
             [
              0.3333333333333333,
              "#9c179e"
             ],
             [
              0.4444444444444444,
              "#bd3786"
             ],
             [
              0.5555555555555556,
              "#d8576b"
             ],
             [
              0.6666666666666666,
              "#ed7953"
             ],
             [
              0.7777777777777778,
              "#fb9f3a"
             ],
             [
              0.8888888888888888,
              "#fdca26"
             ],
             [
              1,
              "#f0f921"
             ]
            ],
            "type": "histogram2d"
           }
          ],
          "histogram2dcontour": [
           {
            "colorbar": {
             "outlinewidth": 0,
             "ticks": ""
            },
            "colorscale": [
             [
              0,
              "#0d0887"
             ],
             [
              0.1111111111111111,
              "#46039f"
             ],
             [
              0.2222222222222222,
              "#7201a8"
             ],
             [
              0.3333333333333333,
              "#9c179e"
             ],
             [
              0.4444444444444444,
              "#bd3786"
             ],
             [
              0.5555555555555556,
              "#d8576b"
             ],
             [
              0.6666666666666666,
              "#ed7953"
             ],
             [
              0.7777777777777778,
              "#fb9f3a"
             ],
             [
              0.8888888888888888,
              "#fdca26"
             ],
             [
              1,
              "#f0f921"
             ]
            ],
            "type": "histogram2dcontour"
           }
          ],
          "mesh3d": [
           {
            "colorbar": {
             "outlinewidth": 0,
             "ticks": ""
            },
            "type": "mesh3d"
           }
          ],
          "parcoords": [
           {
            "line": {
             "colorbar": {
              "outlinewidth": 0,
              "ticks": ""
             }
            },
            "type": "parcoords"
           }
          ],
          "pie": [
           {
            "automargin": true,
            "type": "pie"
           }
          ],
          "scatter": [
           {
            "marker": {
             "colorbar": {
              "outlinewidth": 0,
              "ticks": ""
             }
            },
            "type": "scatter"
           }
          ],
          "scatter3d": [
           {
            "line": {
             "colorbar": {
              "outlinewidth": 0,
              "ticks": ""
             }
            },
            "marker": {
             "colorbar": {
              "outlinewidth": 0,
              "ticks": ""
             }
            },
            "type": "scatter3d"
           }
          ],
          "scattercarpet": [
           {
            "marker": {
             "colorbar": {
              "outlinewidth": 0,
              "ticks": ""
             }
            },
            "type": "scattercarpet"
           }
          ],
          "scattergeo": [
           {
            "marker": {
             "colorbar": {
              "outlinewidth": 0,
              "ticks": ""
             }
            },
            "type": "scattergeo"
           }
          ],
          "scattergl": [
           {
            "marker": {
             "colorbar": {
              "outlinewidth": 0,
              "ticks": ""
             }
            },
            "type": "scattergl"
           }
          ],
          "scattermapbox": [
           {
            "marker": {
             "colorbar": {
              "outlinewidth": 0,
              "ticks": ""
             }
            },
            "type": "scattermapbox"
           }
          ],
          "scatterpolar": [
           {
            "marker": {
             "colorbar": {
              "outlinewidth": 0,
              "ticks": ""
             }
            },
            "type": "scatterpolar"
           }
          ],
          "scatterpolargl": [
           {
            "marker": {
             "colorbar": {
              "outlinewidth": 0,
              "ticks": ""
             }
            },
            "type": "scatterpolargl"
           }
          ],
          "scatterternary": [
           {
            "marker": {
             "colorbar": {
              "outlinewidth": 0,
              "ticks": ""
             }
            },
            "type": "scatterternary"
           }
          ],
          "surface": [
           {
            "colorbar": {
             "outlinewidth": 0,
             "ticks": ""
            },
            "colorscale": [
             [
              0,
              "#0d0887"
             ],
             [
              0.1111111111111111,
              "#46039f"
             ],
             [
              0.2222222222222222,
              "#7201a8"
             ],
             [
              0.3333333333333333,
              "#9c179e"
             ],
             [
              0.4444444444444444,
              "#bd3786"
             ],
             [
              0.5555555555555556,
              "#d8576b"
             ],
             [
              0.6666666666666666,
              "#ed7953"
             ],
             [
              0.7777777777777778,
              "#fb9f3a"
             ],
             [
              0.8888888888888888,
              "#fdca26"
             ],
             [
              1,
              "#f0f921"
             ]
            ],
            "type": "surface"
           }
          ],
          "table": [
           {
            "cells": {
             "fill": {
              "color": "#EBF0F8"
             },
             "line": {
              "color": "white"
             }
            },
            "header": {
             "fill": {
              "color": "#C8D4E3"
             },
             "line": {
              "color": "white"
             }
            },
            "type": "table"
           }
          ]
         },
         "layout": {
          "annotationdefaults": {
           "arrowcolor": "#2a3f5f",
           "arrowhead": 0,
           "arrowwidth": 1
          },
          "autotypenumbers": "strict",
          "coloraxis": {
           "colorbar": {
            "outlinewidth": 0,
            "ticks": ""
           }
          },
          "colorscale": {
           "diverging": [
            [
             0,
             "#8e0152"
            ],
            [
             0.1,
             "#c51b7d"
            ],
            [
             0.2,
             "#de77ae"
            ],
            [
             0.3,
             "#f1b6da"
            ],
            [
             0.4,
             "#fde0ef"
            ],
            [
             0.5,
             "#f7f7f7"
            ],
            [
             0.6,
             "#e6f5d0"
            ],
            [
             0.7,
             "#b8e186"
            ],
            [
             0.8,
             "#7fbc41"
            ],
            [
             0.9,
             "#4d9221"
            ],
            [
             1,
             "#276419"
            ]
           ],
           "sequential": [
            [
             0,
             "#0d0887"
            ],
            [
             0.1111111111111111,
             "#46039f"
            ],
            [
             0.2222222222222222,
             "#7201a8"
            ],
            [
             0.3333333333333333,
             "#9c179e"
            ],
            [
             0.4444444444444444,
             "#bd3786"
            ],
            [
             0.5555555555555556,
             "#d8576b"
            ],
            [
             0.6666666666666666,
             "#ed7953"
            ],
            [
             0.7777777777777778,
             "#fb9f3a"
            ],
            [
             0.8888888888888888,
             "#fdca26"
            ],
            [
             1,
             "#f0f921"
            ]
           ],
           "sequentialminus": [
            [
             0,
             "#0d0887"
            ],
            [
             0.1111111111111111,
             "#46039f"
            ],
            [
             0.2222222222222222,
             "#7201a8"
            ],
            [
             0.3333333333333333,
             "#9c179e"
            ],
            [
             0.4444444444444444,
             "#bd3786"
            ],
            [
             0.5555555555555556,
             "#d8576b"
            ],
            [
             0.6666666666666666,
             "#ed7953"
            ],
            [
             0.7777777777777778,
             "#fb9f3a"
            ],
            [
             0.8888888888888888,
             "#fdca26"
            ],
            [
             1,
             "#f0f921"
            ]
           ]
          },
          "colorway": [
           "#636efa",
           "#EF553B",
           "#00cc96",
           "#ab63fa",
           "#FFA15A",
           "#19d3f3",
           "#FF6692",
           "#B6E880",
           "#FF97FF",
           "#FECB52"
          ],
          "font": {
           "color": "#2a3f5f"
          },
          "geo": {
           "bgcolor": "white",
           "lakecolor": "white",
           "landcolor": "#E5ECF6",
           "showlakes": true,
           "showland": true,
           "subunitcolor": "white"
          },
          "hoverlabel": {
           "align": "left"
          },
          "hovermode": "closest",
          "mapbox": {
           "style": "light"
          },
          "paper_bgcolor": "white",
          "plot_bgcolor": "#E5ECF6",
          "polar": {
           "angularaxis": {
            "gridcolor": "white",
            "linecolor": "white",
            "ticks": ""
           },
           "bgcolor": "#E5ECF6",
           "radialaxis": {
            "gridcolor": "white",
            "linecolor": "white",
            "ticks": ""
           }
          },
          "scene": {
           "xaxis": {
            "backgroundcolor": "#E5ECF6",
            "gridcolor": "white",
            "gridwidth": 2,
            "linecolor": "white",
            "showbackground": true,
            "ticks": "",
            "zerolinecolor": "white"
           },
           "yaxis": {
            "backgroundcolor": "#E5ECF6",
            "gridcolor": "white",
            "gridwidth": 2,
            "linecolor": "white",
            "showbackground": true,
            "ticks": "",
            "zerolinecolor": "white"
           },
           "zaxis": {
            "backgroundcolor": "#E5ECF6",
            "gridcolor": "white",
            "gridwidth": 2,
            "linecolor": "white",
            "showbackground": true,
            "ticks": "",
            "zerolinecolor": "white"
           }
          },
          "shapedefaults": {
           "line": {
            "color": "#2a3f5f"
           }
          },
          "ternary": {
           "aaxis": {
            "gridcolor": "white",
            "linecolor": "white",
            "ticks": ""
           },
           "baxis": {
            "gridcolor": "white",
            "linecolor": "white",
            "ticks": ""
           },
           "bgcolor": "#E5ECF6",
           "caxis": {
            "gridcolor": "white",
            "linecolor": "white",
            "ticks": ""
           }
          },
          "title": {
           "x": 0.05
          },
          "xaxis": {
           "automargin": true,
           "gridcolor": "white",
           "linecolor": "white",
           "ticks": "",
           "title": {
            "standoff": 15
           },
           "zerolinecolor": "white",
           "zerolinewidth": 2
          },
          "yaxis": {
           "automargin": true,
           "gridcolor": "white",
           "linecolor": "white",
           "ticks": "",
           "title": {
            "standoff": 15
           },
           "zerolinecolor": "white",
           "zerolinewidth": 2
          }
         }
        },
        "title": {
         "text": "COVID Cases by US State"
        }
       }
      },
      "text/html": [
       "<div>                            <div id=\"44d09795-2f2a-4c71-9268-3826f35fc6e7\" class=\"plotly-graph-div\" style=\"height:525px; width:100%;\"></div>            <script type=\"text/javascript\">                require([\"plotly\"], function(Plotly) {                    window.PLOTLYENV=window.PLOTLYENV || {};                                    if (document.getElementById(\"44d09795-2f2a-4c71-9268-3826f35fc6e7\")) {                    Plotly.newPlot(                        \"44d09795-2f2a-4c71-9268-3826f35fc6e7\",                        [{\"coloraxis\":\"coloraxis\",\"geo\":\"geo\",\"hovertemplate\":\"state=%{location}<br>COVID Cases=%{z}<extra></extra>\",\"locationmode\":\"USA-states\",\"locations\":[\"CA\",\"NH\",\"OR\",\"ND\",\"TX\",\"PR\",\"NV\",\"KY\",\"OH\",\"GU\",\"NY\",\"HI\",\"NM\",\"MS\",\"IN\",\"DC\",\"WV\",\"NE\",\"FL\",\"MO\",\"ME\",\"AR\",\"NC\",\"CT\",\"WI\",\"SD\",\"RI\",\"OK\",\"ID\",\"GA\",\"MN\",\"PA\",\"MD\",\"AK\",\"WY\",\"LA\",\"MT\",\"IL\",\"TN\",\"WA\",\"NJ\",\"MI\",\"MA\",\"AL\",\"UT\",\"IA\",\"VT\",\"CO\",\"SC\",\"VI\",\"AS\",\"VA\",\"DE\",\"AZ\",\"KS\"],\"name\":\"\",\"z\":[1939.7,92.3,308.3,42.8,1574.6,151.2,115.1,353.5,1004.9,4.4,2607.4,69.5,80.5,112.0,266.7,135.1,173.8,121.3,1621.3,666.4,184.5,184.0,1439.1,423.7,320.2,49.6,75.2,198.7,88.3,798.1,427.7,1512.9,618.6,15.5,6.9,119.5,38.7,812.7,359.5,415.5,933.8,976.3,720.3,242.3,94.5,128.8,35.2,148.3,213.9,5.0,0.0,525.9,188.3,288.7,111.5],\"type\":\"choropleth\"}],                        {\"template\":{\"data\":{\"bar\":[{\"error_x\":{\"color\":\"#2a3f5f\"},\"error_y\":{\"color\":\"#2a3f5f\"},\"marker\":{\"line\":{\"color\":\"#E5ECF6\",\"width\":0.5},\"pattern\":{\"fillmode\":\"overlay\",\"size\":10,\"solidity\":0.2}},\"type\":\"bar\"}],\"barpolar\":[{\"marker\":{\"line\":{\"color\":\"#E5ECF6\",\"width\":0.5},\"pattern\":{\"fillmode\":\"overlay\",\"size\":10,\"solidity\":0.2}},\"type\":\"barpolar\"}],\"carpet\":[{\"aaxis\":{\"endlinecolor\":\"#2a3f5f\",\"gridcolor\":\"white\",\"linecolor\":\"white\",\"minorgridcolor\":\"white\",\"startlinecolor\":\"#2a3f5f\"},\"baxis\":{\"endlinecolor\":\"#2a3f5f\",\"gridcolor\":\"white\",\"linecolor\":\"white\",\"minorgridcolor\":\"white\",\"startlinecolor\":\"#2a3f5f\"},\"type\":\"carpet\"}],\"choropleth\":[{\"colorbar\":{\"outlinewidth\":0,\"ticks\":\"\"},\"type\":\"choropleth\"}],\"contour\":[{\"colorbar\":{\"outlinewidth\":0,\"ticks\":\"\"},\"colorscale\":[[0.0,\"#0d0887\"],[0.1111111111111111,\"#46039f\"],[0.2222222222222222,\"#7201a8\"],[0.3333333333333333,\"#9c179e\"],[0.4444444444444444,\"#bd3786\"],[0.5555555555555556,\"#d8576b\"],[0.6666666666666666,\"#ed7953\"],[0.7777777777777778,\"#fb9f3a\"],[0.8888888888888888,\"#fdca26\"],[1.0,\"#f0f921\"]],\"type\":\"contour\"}],\"contourcarpet\":[{\"colorbar\":{\"outlinewidth\":0,\"ticks\":\"\"},\"type\":\"contourcarpet\"}],\"heatmap\":[{\"colorbar\":{\"outlinewidth\":0,\"ticks\":\"\"},\"colorscale\":[[0.0,\"#0d0887\"],[0.1111111111111111,\"#46039f\"],[0.2222222222222222,\"#7201a8\"],[0.3333333333333333,\"#9c179e\"],[0.4444444444444444,\"#bd3786\"],[0.5555555555555556,\"#d8576b\"],[0.6666666666666666,\"#ed7953\"],[0.7777777777777778,\"#fb9f3a\"],[0.8888888888888888,\"#fdca26\"],[1.0,\"#f0f921\"]],\"type\":\"heatmap\"}],\"heatmapgl\":[{\"colorbar\":{\"outlinewidth\":0,\"ticks\":\"\"},\"colorscale\":[[0.0,\"#0d0887\"],[0.1111111111111111,\"#46039f\"],[0.2222222222222222,\"#7201a8\"],[0.3333333333333333,\"#9c179e\"],[0.4444444444444444,\"#bd3786\"],[0.5555555555555556,\"#d8576b\"],[0.6666666666666666,\"#ed7953\"],[0.7777777777777778,\"#fb9f3a\"],[0.8888888888888888,\"#fdca26\"],[1.0,\"#f0f921\"]],\"type\":\"heatmapgl\"}],\"histogram\":[{\"marker\":{\"pattern\":{\"fillmode\":\"overlay\",\"size\":10,\"solidity\":0.2}},\"type\":\"histogram\"}],\"histogram2d\":[{\"colorbar\":{\"outlinewidth\":0,\"ticks\":\"\"},\"colorscale\":[[0.0,\"#0d0887\"],[0.1111111111111111,\"#46039f\"],[0.2222222222222222,\"#7201a8\"],[0.3333333333333333,\"#9c179e\"],[0.4444444444444444,\"#bd3786\"],[0.5555555555555556,\"#d8576b\"],[0.6666666666666666,\"#ed7953\"],[0.7777777777777778,\"#fb9f3a\"],[0.8888888888888888,\"#fdca26\"],[1.0,\"#f0f921\"]],\"type\":\"histogram2d\"}],\"histogram2dcontour\":[{\"colorbar\":{\"outlinewidth\":0,\"ticks\":\"\"},\"colorscale\":[[0.0,\"#0d0887\"],[0.1111111111111111,\"#46039f\"],[0.2222222222222222,\"#7201a8\"],[0.3333333333333333,\"#9c179e\"],[0.4444444444444444,\"#bd3786\"],[0.5555555555555556,\"#d8576b\"],[0.6666666666666666,\"#ed7953\"],[0.7777777777777778,\"#fb9f3a\"],[0.8888888888888888,\"#fdca26\"],[1.0,\"#f0f921\"]],\"type\":\"histogram2dcontour\"}],\"mesh3d\":[{\"colorbar\":{\"outlinewidth\":0,\"ticks\":\"\"},\"type\":\"mesh3d\"}],\"parcoords\":[{\"line\":{\"colorbar\":{\"outlinewidth\":0,\"ticks\":\"\"}},\"type\":\"parcoords\"}],\"pie\":[{\"automargin\":true,\"type\":\"pie\"}],\"scatter\":[{\"marker\":{\"colorbar\":{\"outlinewidth\":0,\"ticks\":\"\"}},\"type\":\"scatter\"}],\"scatter3d\":[{\"line\":{\"colorbar\":{\"outlinewidth\":0,\"ticks\":\"\"}},\"marker\":{\"colorbar\":{\"outlinewidth\":0,\"ticks\":\"\"}},\"type\":\"scatter3d\"}],\"scattercarpet\":[{\"marker\":{\"colorbar\":{\"outlinewidth\":0,\"ticks\":\"\"}},\"type\":\"scattercarpet\"}],\"scattergeo\":[{\"marker\":{\"colorbar\":{\"outlinewidth\":0,\"ticks\":\"\"}},\"type\":\"scattergeo\"}],\"scattergl\":[{\"marker\":{\"colorbar\":{\"outlinewidth\":0,\"ticks\":\"\"}},\"type\":\"scattergl\"}],\"scattermapbox\":[{\"marker\":{\"colorbar\":{\"outlinewidth\":0,\"ticks\":\"\"}},\"type\":\"scattermapbox\"}],\"scatterpolar\":[{\"marker\":{\"colorbar\":{\"outlinewidth\":0,\"ticks\":\"\"}},\"type\":\"scatterpolar\"}],\"scatterpolargl\":[{\"marker\":{\"colorbar\":{\"outlinewidth\":0,\"ticks\":\"\"}},\"type\":\"scatterpolargl\"}],\"scatterternary\":[{\"marker\":{\"colorbar\":{\"outlinewidth\":0,\"ticks\":\"\"}},\"type\":\"scatterternary\"}],\"surface\":[{\"colorbar\":{\"outlinewidth\":0,\"ticks\":\"\"},\"colorscale\":[[0.0,\"#0d0887\"],[0.1111111111111111,\"#46039f\"],[0.2222222222222222,\"#7201a8\"],[0.3333333333333333,\"#9c179e\"],[0.4444444444444444,\"#bd3786\"],[0.5555555555555556,\"#d8576b\"],[0.6666666666666666,\"#ed7953\"],[0.7777777777777778,\"#fb9f3a\"],[0.8888888888888888,\"#fdca26\"],[1.0,\"#f0f921\"]],\"type\":\"surface\"}],\"table\":[{\"cells\":{\"fill\":{\"color\":\"#EBF0F8\"},\"line\":{\"color\":\"white\"}},\"header\":{\"fill\":{\"color\":\"#C8D4E3\"},\"line\":{\"color\":\"white\"}},\"type\":\"table\"}]},\"layout\":{\"annotationdefaults\":{\"arrowcolor\":\"#2a3f5f\",\"arrowhead\":0,\"arrowwidth\":1},\"autotypenumbers\":\"strict\",\"coloraxis\":{\"colorbar\":{\"outlinewidth\":0,\"ticks\":\"\"}},\"colorscale\":{\"diverging\":[[0,\"#8e0152\"],[0.1,\"#c51b7d\"],[0.2,\"#de77ae\"],[0.3,\"#f1b6da\"],[0.4,\"#fde0ef\"],[0.5,\"#f7f7f7\"],[0.6,\"#e6f5d0\"],[0.7,\"#b8e186\"],[0.8,\"#7fbc41\"],[0.9,\"#4d9221\"],[1,\"#276419\"]],\"sequential\":[[0.0,\"#0d0887\"],[0.1111111111111111,\"#46039f\"],[0.2222222222222222,\"#7201a8\"],[0.3333333333333333,\"#9c179e\"],[0.4444444444444444,\"#bd3786\"],[0.5555555555555556,\"#d8576b\"],[0.6666666666666666,\"#ed7953\"],[0.7777777777777778,\"#fb9f3a\"],[0.8888888888888888,\"#fdca26\"],[1.0,\"#f0f921\"]],\"sequentialminus\":[[0.0,\"#0d0887\"],[0.1111111111111111,\"#46039f\"],[0.2222222222222222,\"#7201a8\"],[0.3333333333333333,\"#9c179e\"],[0.4444444444444444,\"#bd3786\"],[0.5555555555555556,\"#d8576b\"],[0.6666666666666666,\"#ed7953\"],[0.7777777777777778,\"#fb9f3a\"],[0.8888888888888888,\"#fdca26\"],[1.0,\"#f0f921\"]]},\"colorway\":[\"#636efa\",\"#EF553B\",\"#00cc96\",\"#ab63fa\",\"#FFA15A\",\"#19d3f3\",\"#FF6692\",\"#B6E880\",\"#FF97FF\",\"#FECB52\"],\"font\":{\"color\":\"#2a3f5f\"},\"geo\":{\"bgcolor\":\"white\",\"lakecolor\":\"white\",\"landcolor\":\"#E5ECF6\",\"showlakes\":true,\"showland\":true,\"subunitcolor\":\"white\"},\"hoverlabel\":{\"align\":\"left\"},\"hovermode\":\"closest\",\"mapbox\":{\"style\":\"light\"},\"paper_bgcolor\":\"white\",\"plot_bgcolor\":\"#E5ECF6\",\"polar\":{\"angularaxis\":{\"gridcolor\":\"white\",\"linecolor\":\"white\",\"ticks\":\"\"},\"bgcolor\":\"#E5ECF6\",\"radialaxis\":{\"gridcolor\":\"white\",\"linecolor\":\"white\",\"ticks\":\"\"}},\"scene\":{\"xaxis\":{\"backgroundcolor\":\"#E5ECF6\",\"gridcolor\":\"white\",\"gridwidth\":2,\"linecolor\":\"white\",\"showbackground\":true,\"ticks\":\"\",\"zerolinecolor\":\"white\"},\"yaxis\":{\"backgroundcolor\":\"#E5ECF6\",\"gridcolor\":\"white\",\"gridwidth\":2,\"linecolor\":\"white\",\"showbackground\":true,\"ticks\":\"\",\"zerolinecolor\":\"white\"},\"zaxis\":{\"backgroundcolor\":\"#E5ECF6\",\"gridcolor\":\"white\",\"gridwidth\":2,\"linecolor\":\"white\",\"showbackground\":true,\"ticks\":\"\",\"zerolinecolor\":\"white\"}},\"shapedefaults\":{\"line\":{\"color\":\"#2a3f5f\"}},\"ternary\":{\"aaxis\":{\"gridcolor\":\"white\",\"linecolor\":\"white\",\"ticks\":\"\"},\"baxis\":{\"gridcolor\":\"white\",\"linecolor\":\"white\",\"ticks\":\"\"},\"bgcolor\":\"#E5ECF6\",\"caxis\":{\"gridcolor\":\"white\",\"linecolor\":\"white\",\"ticks\":\"\"}},\"title\":{\"x\":0.05},\"xaxis\":{\"automargin\":true,\"gridcolor\":\"white\",\"linecolor\":\"white\",\"ticks\":\"\",\"title\":{\"standoff\":15},\"zerolinecolor\":\"white\",\"zerolinewidth\":2},\"yaxis\":{\"automargin\":true,\"gridcolor\":\"white\",\"linecolor\":\"white\",\"ticks\":\"\",\"title\":{\"standoff\":15},\"zerolinecolor\":\"white\",\"zerolinewidth\":2}}},\"geo\":{\"domain\":{\"x\":[0.0,1.0],\"y\":[0.0,1.0]},\"center\":{},\"scope\":\"usa\"},\"coloraxis\":{\"colorbar\":{\"title\":{\"text\":\"COVID Cases\"}},\"colorscale\":[[0.0,\"#fde725\"],[0.1111111111111111,\"#b5de2b\"],[0.2222222222222222,\"#6ece58\"],[0.3333333333333333,\"#35b779\"],[0.4444444444444444,\"#1f9e89\"],[0.5555555555555556,\"#26828e\"],[0.6666666666666666,\"#31688e\"],[0.7777777777777778,\"#3e4989\"],[0.8888888888888888,\"#482878\"],[1.0,\"#440154\"]]},\"legend\":{\"tracegroupgap\":0},\"title\":{\"text\":\"COVID Cases by US State\"}},                        {\"responsive\": true}                    ).then(function(){\n",
       "                            \n",
       "var gd = document.getElementById('44d09795-2f2a-4c71-9268-3826f35fc6e7');\n",
       "var x = new MutationObserver(function (mutations, observer) {{\n",
       "        var display = window.getComputedStyle(gd).display;\n",
       "        if (!display || display === 'none') {{\n",
       "            console.log([gd, 'removed!']);\n",
       "            Plotly.purge(gd);\n",
       "            observer.disconnect();\n",
       "        }}\n",
       "}});\n",
       "\n",
       "// Listen for the removal of the full notebook cells\n",
       "var notebookContainer = gd.closest('#notebook-container');\n",
       "if (notebookContainer) {{\n",
       "    x.observe(notebookContainer, {childList: true});\n",
       "}}\n",
       "\n",
       "// Listen for the clearing of the current output cell\n",
       "var outputEl = gd.closest('.output');\n",
       "if (outputEl) {{\n",
       "    x.observe(outputEl, {childList: true});\n",
       "}}\n",
       "\n",
       "                        })                };                });            </script>        </div>"
      ]
     },
     "metadata": {},
     "output_type": "display_data"
    }
   ],
   "source": [
    "if run == True:\n",
    "    fig = px.choropleth(covid_map,\n",
    "                        locations='state', \n",
    "                        locationmode=\"USA-states\", \n",
    "                        scope=\"usa\",\n",
    "                        color='COVID Cases',\n",
    "                        color_continuous_scale=\"Viridis_r\"\n",
    "                        )\n",
    "\n",
    "    fig.show()"
   ]
  },
  {
   "cell_type": "markdown",
   "metadata": {},
   "source": [
    "# US States with the Largest COVID Increase Compared to Previous Week"
   ]
  },
  {
   "cell_type": "code",
   "execution_count": 224,
   "metadata": {},
   "outputs": [
    {
     "data": {
      "text/html": [
       "<style type=\"text/css\">\n",
       "</style>\n",
       "<table id=\"T_2b313\">\n",
       "  <thead>\n",
       "    <tr>\n",
       "      <th id=\"T_2b313_level0_col0\" class=\"col_heading level0 col0\" >State</th>\n",
       "      <th id=\"T_2b313_level0_col1\" class=\"col_heading level0 col1\" >Case Increase</th>\n",
       "    </tr>\n",
       "  </thead>\n",
       "  <tbody>\n",
       "    <tr>\n",
       "      <td id=\"T_2b313_row0_col0\" class=\"data row0 col0\" >NY</td>\n",
       "      <td id=\"T_2b313_row0_col1\" class=\"data row0 col1\" >254</td>\n",
       "    </tr>\n",
       "    <tr>\n",
       "      <td id=\"T_2b313_row1_col0\" class=\"data row1 col0\" >MI</td>\n",
       "      <td id=\"T_2b313_row1_col1\" class=\"data row1 col1\" >88</td>\n",
       "    </tr>\n",
       "    <tr>\n",
       "      <td id=\"T_2b313_row2_col0\" class=\"data row2 col0\" >AZ</td>\n",
       "      <td id=\"T_2b313_row2_col1\" class=\"data row2 col1\" >64</td>\n",
       "    </tr>\n",
       "    <tr>\n",
       "      <td id=\"T_2b313_row3_col0\" class=\"data row3 col0\" >NJ</td>\n",
       "      <td id=\"T_2b313_row3_col1\" class=\"data row3 col1\" >49</td>\n",
       "    </tr>\n",
       "    <tr>\n",
       "      <td id=\"T_2b313_row4_col0\" class=\"data row4 col0\" >OH</td>\n",
       "      <td id=\"T_2b313_row4_col1\" class=\"data row4 col1\" >49</td>\n",
       "    </tr>\n",
       "    <tr>\n",
       "      <td id=\"T_2b313_row5_col0\" class=\"data row5 col0\" >MD</td>\n",
       "      <td id=\"T_2b313_row5_col1\" class=\"data row5 col1\" >33</td>\n",
       "    </tr>\n",
       "    <tr>\n",
       "      <td id=\"T_2b313_row6_col0\" class=\"data row6 col0\" >NM</td>\n",
       "      <td id=\"T_2b313_row6_col1\" class=\"data row6 col1\" >33</td>\n",
       "    </tr>\n",
       "    <tr>\n",
       "      <td id=\"T_2b313_row7_col0\" class=\"data row7 col0\" >HI</td>\n",
       "      <td id=\"T_2b313_row7_col1\" class=\"data row7 col1\" >31</td>\n",
       "    </tr>\n",
       "    <tr>\n",
       "      <td id=\"T_2b313_row8_col0\" class=\"data row8 col0\" >MA</td>\n",
       "      <td id=\"T_2b313_row8_col1\" class=\"data row8 col1\" >30</td>\n",
       "    </tr>\n",
       "    <tr>\n",
       "      <td id=\"T_2b313_row9_col0\" class=\"data row9 col0\" >NH</td>\n",
       "      <td id=\"T_2b313_row9_col1\" class=\"data row9 col1\" >28</td>\n",
       "    </tr>\n",
       "  </tbody>\n",
       "</table>\n"
      ],
      "text/plain": [
       "<pandas.io.formats.style.Styler at 0x7f420509bb50>"
      ]
     },
     "execution_count": 224,
     "metadata": {},
     "output_type": "execute_result"
    }
   ],
   "source": [
    "if run == True:\n",
    "   covid_state = pd.read_sql_query(\"select \\\n",
    "                                       a.state, \\\n",
    "                                       (a.covid_current - b.covid_prev) as COVID_Increase \\\n",
    "                                       from ( \\\n",
    "                                          select \\\n",
    "                                          state, \\\n",
    "                                          sum(coalesce(all_COVID_patient,0)) as covid_current \\\n",
    "                                          from hospital_weekly as a \\\n",
    "                                          full outer join hospital as b \\\n",
    "                                          on a.hospital_pk = b.hospital_pk \\\n",
    "                                          where date = %(week)s \\\n",
    "                                          group by b.state) a \\\n",
    "                                          inner join ( \\\n",
    "                                             select \\\n",
    "                                             state, \\\n",
    "                                             sum(coalesce(all_COVID_patient,0)) as covid_prev \\\n",
    "                                             from hospital_weekly as a \\\n",
    "                                             full outer join hospital as b \\\n",
    "                                             on a.hospital_pk = b.hospital_pk \\\n",
    "                                             where date = date (%(week)s) - interval '1 week' group by b.state) b \\\n",
    "                                          on a.state = b.state \\\n",
    "                                          order by (a.covid_current - b.covid_prev) DESC\\\n",
    "                                          limit 10;\" \\\n",
    "                                          , conn\n",
    "                                          , params={'week':week})\n",
    "\n",
    "   covid_state = covid_state.rename(columns={\"state\":\"State\",\n",
    "                                             \"covid_increase\":\"Case Increase\"})\n",
    "   # Table Format\n",
    "   covid_state.style.format({\"Case Increase\":\"{:,.0f}\"}).hide_index()"
   ]
  },
  {
   "cell_type": "markdown",
   "metadata": {},
   "source": [
    "# Hospitals with the Largest Increase in COVID Cases Compared to Previous Week"
   ]
  },
  {
   "cell_type": "code",
   "execution_count": 196,
   "metadata": {},
   "outputs": [
    {
     "data": {
      "text/html": [
       "<style type=\"text/css\">\n",
       "</style>\n",
       "<table id=\"T_5f498\">\n",
       "  <thead>\n",
       "    <tr>\n",
       "      <th id=\"T_5f498_level0_col0\" class=\"col_heading level0 col0\" >Hospital Name</th>\n",
       "      <th id=\"T_5f498_level0_col1\" class=\"col_heading level0 col1\" >City</th>\n",
       "      <th id=\"T_5f498_level0_col2\" class=\"col_heading level0 col2\" >State</th>\n",
       "      <th id=\"T_5f498_level0_col3\" class=\"col_heading level0 col3\" >Case Increase</th>\n",
       "    </tr>\n",
       "  </thead>\n",
       "  <tbody>\n",
       "    <tr>\n",
       "      <td id=\"T_5f498_row0_col0\" class=\"data row0 col0\" >READING HOSPITAL</td>\n",
       "      <td id=\"T_5f498_row0_col1\" class=\"data row0 col1\" >WEST READING</td>\n",
       "      <td id=\"T_5f498_row0_col2\" class=\"data row0 col2\" >PA</td>\n",
       "      <td id=\"T_5f498_row0_col3\" class=\"data row0 col3\" >46</td>\n",
       "    </tr>\n",
       "    <tr>\n",
       "      <td id=\"T_5f498_row1_col0\" class=\"data row1 col0\" >HUNTINGTON HOSPITAL</td>\n",
       "      <td id=\"T_5f498_row1_col1\" class=\"data row1 col1\" >HUNTINGTON</td>\n",
       "      <td id=\"T_5f498_row1_col2\" class=\"data row1 col2\" >NY</td>\n",
       "      <td id=\"T_5f498_row1_col3\" class=\"data row1 col3\" >19</td>\n",
       "    </tr>\n",
       "    <tr>\n",
       "      <td id=\"T_5f498_row2_col0\" class=\"data row2 col0\" >STRONG MEMORIAL HOSPITAL</td>\n",
       "      <td id=\"T_5f498_row2_col1\" class=\"data row2 col1\" >ROCHESTER</td>\n",
       "      <td id=\"T_5f498_row2_col2\" class=\"data row2 col2\" >NY</td>\n",
       "      <td id=\"T_5f498_row2_col3\" class=\"data row2 col3\" >15</td>\n",
       "    </tr>\n",
       "    <tr>\n",
       "      <td id=\"T_5f498_row3_col0\" class=\"data row3 col0\" >MORRISTOWN MEDICAL CENTER</td>\n",
       "      <td id=\"T_5f498_row3_col1\" class=\"data row3 col1\" >MORRISTOWN</td>\n",
       "      <td id=\"T_5f498_row3_col2\" class=\"data row3 col2\" >NJ</td>\n",
       "      <td id=\"T_5f498_row3_col3\" class=\"data row3 col3\" >15</td>\n",
       "    </tr>\n",
       "    <tr>\n",
       "      <td id=\"T_5f498_row4_col0\" class=\"data row4 col0\" >STATEN ISLAND UNIVERSITY HOSPITAL</td>\n",
       "      <td id=\"T_5f498_row4_col1\" class=\"data row4 col1\" >STATEN ISLAND</td>\n",
       "      <td id=\"T_5f498_row4_col2\" class=\"data row4 col2\" >NY</td>\n",
       "      <td id=\"T_5f498_row4_col3\" class=\"data row4 col3\" >14</td>\n",
       "    </tr>\n",
       "    <tr>\n",
       "      <td id=\"T_5f498_row5_col0\" class=\"data row5 col0\" >WELLSTAR KENNESTONE REGIONAL MEDICAL CENTER</td>\n",
       "      <td id=\"T_5f498_row5_col1\" class=\"data row5 col1\" >MARIETTA</td>\n",
       "      <td id=\"T_5f498_row5_col2\" class=\"data row5 col2\" >GA</td>\n",
       "      <td id=\"T_5f498_row5_col3\" class=\"data row5 col3\" >13</td>\n",
       "    </tr>\n",
       "    <tr>\n",
       "      <td id=\"T_5f498_row6_col0\" class=\"data row6 col0\" >LONG ISLAND JEWISH MEDICAL CENTER</td>\n",
       "      <td id=\"T_5f498_row6_col1\" class=\"data row6 col1\" >NEW HYDE PARK</td>\n",
       "      <td id=\"T_5f498_row6_col2\" class=\"data row6 col2\" >NY</td>\n",
       "      <td id=\"T_5f498_row6_col3\" class=\"data row6 col3\" >13</td>\n",
       "    </tr>\n",
       "    <tr>\n",
       "      <td id=\"T_5f498_row7_col0\" class=\"data row7 col0\" >BANNER DESERT MEDICAL CENTER</td>\n",
       "      <td id=\"T_5f498_row7_col1\" class=\"data row7 col1\" >MESA</td>\n",
       "      <td id=\"T_5f498_row7_col2\" class=\"data row7 col2\" >AZ</td>\n",
       "      <td id=\"T_5f498_row7_col3\" class=\"data row7 col3\" >13</td>\n",
       "    </tr>\n",
       "    <tr>\n",
       "      <td id=\"T_5f498_row8_col0\" class=\"data row8 col0\" >SARASOTA MEMORIAL HOSPITAL</td>\n",
       "      <td id=\"T_5f498_row8_col1\" class=\"data row8 col1\" >SARASOTA</td>\n",
       "      <td id=\"T_5f498_row8_col2\" class=\"data row8 col2\" >FL</td>\n",
       "      <td id=\"T_5f498_row8_col3\" class=\"data row8 col3\" >13</td>\n",
       "    </tr>\n",
       "    <tr>\n",
       "      <td id=\"T_5f498_row9_col0\" class=\"data row9 col0\" >UNIVERSITY MEDICAL CENTER</td>\n",
       "      <td id=\"T_5f498_row9_col1\" class=\"data row9 col1\" >LAS VEGAS</td>\n",
       "      <td id=\"T_5f498_row9_col2\" class=\"data row9 col2\" >NV</td>\n",
       "      <td id=\"T_5f498_row9_col3\" class=\"data row9 col3\" >12</td>\n",
       "    </tr>\n",
       "  </tbody>\n",
       "</table>\n"
      ],
      "text/plain": [
       "<pandas.io.formats.style.Styler at 0x7f420525d250>"
      ]
     },
     "execution_count": 196,
     "metadata": {},
     "output_type": "execute_result"
    }
   ],
   "source": [
    "if run == True:\n",
    "   covid_hosp = pd.read_sql_query(\"select \\\n",
    "                                    a.hospital_name, \\\n",
    "                                    a.city, \\\n",
    "                                    a.state, \\\n",
    "                                    (a.covid_current - b.covid_prev) as COVID_Increase \\\n",
    "                                    from ( \\\n",
    "                                          select \\\n",
    "                                             b.hospital_name, \\\n",
    "                                             a.hospital_pk, \\\n",
    "                                             b.city, \\\n",
    "                                             b.state, \\\n",
    "                                             sum(coalesce(all_COVID_patient,0)) as covid_current \\\n",
    "                                             from hospital_weekly as a \\\n",
    "                                             full outer join hospital as b \\\n",
    "                                                on a.hospital_pk = b.hospital_pk \\\n",
    "                                             where date = %(week)s \\\n",
    "                                             group by a.hospital_pk, b.hospital_name, b.city, b.state) a \\\n",
    "                                          inner join ( \\\n",
    "                                             select \\\n",
    "                                                b.hospital_name, \\\n",
    "                                                a.hospital_pk, \\\n",
    "                                                b.city, \\\n",
    "                                                b.state, \\\n",
    "                                                sum(coalesce(all_COVID_patient,0)) as covid_prev \\\n",
    "                                             from hospital_weekly as a \\\n",
    "                                             full outer join hospital as b on a.hospital_pk = b.hospital_pk \\\n",
    "                                             where date = date (%(week)s) - interval '1 week' \\\n",
    "                                             group by a.hospital_pk, b.hospital_name, b.city, b.state) b \\\n",
    "                                       on a.hospital_pk = b.hospital_pk \\\n",
    "                                       order by (a.covid_current - b.covid_prev) DESC\\\n",
    "                                       limit 10;\" \\\n",
    "                                       , conn\n",
    "                                       , params={'week':week})\n",
    "\n",
    "   covid_hosp = covid_hosp.rename(columns={\"hospital_name\":\"Hospital Name\",\n",
    "                                             \"city\":\"City\",\n",
    "                                             \"state\":\"State\",\n",
    "                                             \"covid_increase\":\"Case Increase\"})\n",
    "   # Table Format\n",
    "   covid_hosp.style.format({\"Case Increase\":\"{:,.0f}\"}).hide_index()"
   ]
  }
 ],
 "metadata": {
  "kernelspec": {
   "display_name": "Python 3.9.12 ('base': conda)",
   "language": "python",
   "name": "python3"
  },
  "language_info": {
   "codemirror_mode": {
    "name": "ipython",
    "version": 3
   },
   "file_extension": ".py",
   "mimetype": "text/x-python",
   "name": "python",
   "nbconvert_exporter": "python",
   "pygments_lexer": "ipython3",
   "version": "3.9.12"
  },
  "orig_nbformat": 4,
  "vscode": {
   "interpreter": {
    "hash": "9ca8fdde7250471106a05227b90e2c77db761b42becb8a9892862940f47c1b41"
   }
  }
 },
 "nbformat": 4,
 "nbformat_minor": 2
}
